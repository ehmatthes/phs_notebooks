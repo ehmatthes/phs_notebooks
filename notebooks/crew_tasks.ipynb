{
 "metadata": {
  "name": "crew_tasks"
 },
 "nbformat": 3,
 "nbformat_minor": 0,
 "worksheets": [
  {
   "cells": [
    {
     "cell_type": "markdown",
     "metadata": {},
     "source": [
      "Crew Tasks\n",
      "===\n",
      "Approaching Crew time as a set of tasks to be completed gets away from the trap of filling time."
     ]
    },
    {
     "cell_type": "markdown",
     "metadata": {},
     "source": [
      "Beginning of the year tasks\n",
      "---\n",
      "- PHS rules and policies\n",
      "    - Rope pull metaphor\n",
      "        - Lead whole-school version of initiative\n",
      "    - Know, critique, commit to them\n",
      "- Values reflections\n",
      "    - Reflections on each PHS Value\n",
      "    - Reflections on each Character Value\n",
      "    - Reflections on each Habit of Work\n",
      "    - Public statement: Why do you choose to attend PHS?\n",
      "- Financial literacy\n",
      "- Portfolio work\n",
      "- Know your transcript\n",
      "- Large-scale project\n",
      "    - modeled after Minor Consuming campaign\n",
      "    - move MC issue statewide?\n",
      "    - focus on meth/ treatment?"
     ]
    }
   ],
   "metadata": {}
  }
 ]
}