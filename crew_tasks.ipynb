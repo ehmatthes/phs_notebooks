{
 "metadata": {
  "name": "crew_tasks"
 }, 
 "nbformat": 2, 
 "worksheets": [
  {
   "cells": [
    {
     "cell_type": "markdown", 
     "source": [
      "Crew Tasks", 
      "===", 
      "Approaching Crew time as a set of tasks to be completed gets away from the trap of filling time."
     ]
    }, 
    {
     "cell_type": "markdown", 
     "source": [
      "Beginning of the year tasks", 
      "---", 
      "- PHS rules and policies", 
      "    - Rope pull metaphor", 
      "        - Lead whole-school version of initiative", 
      "    - Know, critique, commit to them", 
      "- Values reflections", 
      "    - Reflections on each PHS Value", 
      "    - Reflections on each Character Value", 
      "    - Reflections on each Habit of Work", 
      "    - Public statement: Why do you choose to attend PHS?", 
      "- Financial literacy", 
      "- Portfolio work", 
      "- Know your transcript"
     ]
    }
   ]
  }
 ]
}